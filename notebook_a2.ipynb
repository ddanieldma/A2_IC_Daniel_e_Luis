{
 "cells": [
  {
   "cell_type": "code",
   "execution_count": 3,
   "metadata": {},
   "outputs": [],
   "source": [
    "import pandas as pd\n",
    "import matplotlib as plt"
   ]
  },
  {
   "cell_type": "code",
   "execution_count": 8,
   "metadata": {},
   "outputs": [],
   "source": [
    "# criando dataframe\n",
    "# df_lept_2018 = pd.read_csv(\"Leptospirose_2018.csv\")\n",
    "df = pd.read_csv(\"Raiva_Humana_2021.csv\")"
   ]
  },
  {
   "attachments": {},
   "cell_type": "markdown",
   "metadata": {},
   "source": [
    "## 1. Quantos registros existem no arquivo de dados?"
   ]
  },
  {
   "cell_type": "code",
   "execution_count": 6,
   "metadata": {},
   "outputs": [
    {
     "name": "stdout",
     "output_type": "stream",
     "text": [
      "São 198 registros no arquivo de dados\n"
     ]
    }
   ],
   "source": [
    "# 1. Quantos registros existem no arquivo de dados?\n",
    "print(\"São\", len(df.index), \"registros no arquivo de dados\")"
   ]
  },
  {
   "attachments": {},
   "cell_type": "markdown",
   "metadata": {},
   "source": [
    "## 2. Quantos registros existem por município? a função deve retornar uma série do pandas (pd.Series)"
   ]
  },
  {
   "cell_type": "code",
   "execution_count": 17,
   "metadata": {},
   "outputs": [
    {
     "name": "stdout",
     "output_type": "stream",
     "text": [
      "<class 'pandas.core.frame.DataFrame'>\n",
      "ID_MUNICIP\n",
      "110160    1\n",
      "150140    1\n",
      "160010    6\n",
      "171620    1\n",
      "210320    1\n",
      "         ..\n",
      "522140    1\n",
      "522170    1\n",
      "522190    1\n",
      "522205    3\n",
      "530010    2\n",
      "Name: ID_AGRAVO, Length: 94, dtype: int64\n",
      "<class 'pandas.core.series.Series'>\n"
     ]
    }
   ],
   "source": [
    "# 2. Quantos registros existem por município? a função deve retornar uma série do pandas (pd.Series)\n",
    "df_resposta = df.groupby([\"ID_MUNICIP\"])[\"ID_AGRAVO\"].count()\n",
    "print(type(df))\n",
    "print(df_resposta)\n",
    "print(type(df_resposta))"
   ]
  },
  {
   "attachments": {},
   "cell_type": "markdown",
   "metadata": {},
   "source": [
    "## 3. Qual sexo possui mais registros? Retorne uma tupla com o sexo mais numeroso e um dicionário tendo como chaves 'M' e 'F' para os sexos con a contagem de registros em cada sexo."
   ]
  },
  {
   "cell_type": "code",
   "execution_count": 20,
   "metadata": {},
   "outputs": [
    {
     "name": "stdout",
     "output_type": "stream",
     "text": [
      "{'F': 94, 'M': 104}\n",
      "M\n"
     ]
    }
   ],
   "source": [
    "# 3. Qual sexo possui mais registros? Retorne uma tupla com o sexo mais numeroso e um dicionário tendo como chaves 'M' e 'F' para os sexos con a contagem de registros em cada sexo.\n",
    "# retorna uma series\n",
    "dicionario_sexo = dict(df.groupby([\"CS_SEXO\"])[\"ID_AGRAVO\"].count())\n",
    "print(dicionario_sexo)\n",
    "print(max(dicionario_sexo, key=dicionario_sexo.get))\n",
    "# retorna uma series\n",
    "dicionario_sexo = dict(df.groupby([\"CS_SEXO\"])[\"ID_AGRAVO\"].count())\n",
    "max(dicionario_sexo, key=dicionario_sexo.get)"
   ]
  },
  {
   "attachments": {},
   "cell_type": "markdown",
   "metadata": {},
   "source": [
    "## 4. Qual a idade média (em anos) dos registros? retorne um float"
   ]
  },
  {
   "cell_type": "code",
   "execution_count": 21,
   "metadata": {},
   "outputs": [
    {
     "name": "stdout",
     "output_type": "stream",
     "text": [
      "34.3598899958489\n"
     ]
    }
   ],
   "source": [
    "# 4. Qual a idade média (em anos) dos registros? retorne um float\n",
    "# pegando uma coluna como series e calculando a média dessa coluna\n",
    "print(df[\"idade_anos\"].mean())"
   ]
  },
  {
   "attachments": {},
   "cell_type": "markdown",
   "metadata": {},
   "source": [
    "## 5. a coluna SG_UF_NOT contém a sigla (string, por exemplo 33: 'RJ') da unidade federativa. Qual a unidade federativa com mais registros? Retorne o resultado como um dicionário tendo como chaves as siglas das unidades federativas e a quantidade de registros."
   ]
  },
  {
   "cell_type": "code",
   "execution_count": 29,
   "metadata": {},
   "outputs": [
    {
     "name": "stdout",
     "output_type": "stream",
     "text": [
      "{'Rondônia': 1, 'Pará': 1, 'Amapá': 6, 'Tocantins': 1, 'Maranhão': 16, 'Piauí': 13, 'Rio Grande do Norte': 8, 'Pernambuco': 3, 'Bahia': 1, 'Minas Gerais': 57, 'Rio de Janeiro': 6, 'São Paulo': 26, 'Paraná': 3, 'Santa Catarina': 5, 'Rio Grande do Sul': 3, 'Mato Grosso do Sul': 2, 'Mato Grosso': 26, 'Goiás': 18, 'Distrito Federal': 2}\n"
     ]
    }
   ],
   "source": [
    "# 5. a coluna SG_UF_NOT contém a sigla (string, por exemplo 33: 'RJ') da unidade federativa. Qual a unidade federativa com mais registros? Retorne o resultado como um dicionário tendo como chaves as siglas das unidades federativas e a quantidade de registros.\n",
    "# pegando decodificação\n",
    "# estados = pd.read_csv(\"codigos_estado.csv\")\n",
    "# # fazendo listas com os codigos\n",
    "# estado = estados[\"estado\"]\n",
    "# codigo = estados[\"codigo\"]\n",
    "# dicionario_estados = dict(zip(codigo, estado))\n",
    "dicionario_estados = {12: 'Acre', 27: 'Alagoas', 16: 'Amapá', 13: 'Amazonas', 29: 'Bahia', 23: 'Ceará', 53: 'Distrito Federal', 32: 'Espírito Santo', 52: 'Goiás', 21: 'Maranhão', 51: 'Mato Grosso', 50: 'Mato Grosso do Sul', 31: 'Minas Gerais', 15: 'Pará', 25: 'Paraíba', 41: 'Paraná', 26: 'Pernambuco', 22: 'Piauí', 24: 'Rio Grande do Norte', 43: 'Rio Grande do Sul', 33: 'Rio de Janeiro', 11: 'Rondônia', 14: 'Roraima', 42: 'Santa Catarina', 35: 'São Paulo', 28: 'Sergipe', 17: 'Tocantins'}\n",
    "series_estados = df.groupby([\"SG_UF_NOT\"])[\"ID_AGRAVO\"].count()\n",
    "series_estados.rename(index = dicionario_estados, inplace = True)\n",
    "dict(series_estados)\n",
    "print(dict(series_estados))"
   ]
  },
  {
   "attachments": {},
   "cell_type": "markdown",
   "metadata": {},
   "source": [
    "## 6. Novamente usando a coluna SG_UF_NOT, qual a unidade federativa com mais registros de pessoas do sexo masculino? Retorne o resultado como um dicionário tendo como chaves as siglas das unidades federativas e a quantidade de registros."
   ]
  },
  {
   "cell_type": "code",
   "execution_count": 35,
   "metadata": {},
   "outputs": [
    {
     "data": {
      "text/plain": [
       "1"
      ]
     },
     "execution_count": 35,
     "metadata": {},
     "output_type": "execute_result"
    }
   ],
   "source": [
    "# 6. Novamente usando a coluna SG_UF_NOT, qual a unidade federativa com mais registros de pessoas do sexo masculino? Retorne o resultado como um dicionário tendo como chaves as siglas das unidades federativas e a quantidade de registros.\n",
    "sexos_retirar = [\"F\", \"I\"]\n",
    "df = df[df.CS_SEXO.isin(sexos_retirar) == False]\n",
    "# df[\"CS_SEXO\"].nunique()\n"
   ]
  },
  {
   "attachments": {},
   "cell_type": "markdown",
   "metadata": {},
   "source": [
    "## 7. Descubra quantos municípios existem em cada unidade federativa (UF) (busque no google). determine, para a sua tabela de dados, que proporção dos munícípios de cada UF, tem pelo menos um registro. Retorne o resultado como um dicionário tendo como chaves as siglas das unidades federativas e a proporção de municípios com pelo menos um registro.\n"
   ]
  },
  {
   "cell_type": "code",
   "execution_count": 10,
   "metadata": {},
   "outputs": [
    {
     "data": {
      "text/plain": [
       "SG_UF_NOT\n",
       "11     1\n",
       "15     1\n",
       "16     1\n",
       "17     1\n",
       "21     3\n",
       "22     8\n",
       "24     5\n",
       "26     2\n",
       "29     1\n",
       "31    21\n",
       "33     6\n",
       "35    14\n",
       "41     3\n",
       "42     5\n",
       "43     3\n",
       "50     2\n",
       "51     7\n",
       "52     9\n",
       "53     1\n",
       "Name: ID_MUNICIP, dtype: int64"
      ]
     },
     "metadata": {},
     "output_type": "display_data"
    }
   ],
   "source": [
    "# 7. Descubra quantos municípios existem em cada unidade federativa (UF) (busque no google). determine, para a sua tabela de dados, que proporção dos munícípios de cada UF, tem pelo menos um registro. Retorne o resultado como um dicionário tendo como chaves as siglas das unidades federativas e a proporção de municípios com pelo menos um registro.\n",
    "df_contagem_estados = df_raiva_2021.groupby([\"SG_UF_NOT\"])[\"ID_MUNICIP\"].nunique()\n",
    "display(df_contagem_estados)"
   ]
  },
  {
   "cell_type": "code",
   "execution_count": null,
   "metadata": {},
   "outputs": [],
   "source": [
    "# 8. Usando o comando pd.to_datetime do Pandas, crie uma nova coluna chamada DT_NOTIFICACAO com o tipo datetime64[ns] a partir da coluna DT_NOTIFIC, e uma coluna DT_SINTOMAS também de tipo datetime64[ns]. A partir destas duas novas colunas calcule o número de dias de atraso entre os sintomas e a notificação e salve em uma coluna ATRASO_NOT."
   ]
  },
  {
   "cell_type": "code",
   "execution_count": null,
   "metadata": {},
   "outputs": [],
   "source": [
    "# 9. Calcule a média e desvio padrão do atraso de notificação por unidade federativa. Retorne o resultado como um dicionário tendo como chaves as siglas das unidades federativas e a média e desvio padrão do atraso de notificação."
   ]
  },
  {
   "cell_type": "code",
   "execution_count": null,
   "metadata": {},
   "outputs": [],
   "source": [
    "# 10. Calcule a média do atraso de notificação por município. Plote o número de notificações contra o atraso médio em cada município como um scatter plot."
   ]
  }
 ],
 "metadata": {
  "kernelspec": {
   "display_name": "Python 3",
   "language": "python",
   "name": "python3"
  },
  "language_info": {
   "codemirror_mode": {
    "name": "ipython",
    "version": 3
   },
   "file_extension": ".py",
   "mimetype": "text/x-python",
   "name": "python",
   "nbconvert_exporter": "python",
   "pygments_lexer": "ipython3",
   "version": "3.11.1"
  },
  "orig_nbformat": 4,
  "vscode": {
   "interpreter": {
    "hash": "5238573367df39f7286bb46f9ff5f08f63a01a80960060ce41e3c79b190280fa"
   }
  }
 },
 "nbformat": 4,
 "nbformat_minor": 2
}
