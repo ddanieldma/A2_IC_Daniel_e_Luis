{
 "cells": [
  {
   "cell_type": "code",
   "execution_count": 11,
   "metadata": {},
   "outputs": [],
   "source": [
    "import pandas as pd\n",
    "import numpy as np\n",
    "import matplotlib.pyplot as plt\n"
   ]
  },
  {
   "cell_type": "code",
   "execution_count": 2,
   "metadata": {},
   "outputs": [],
   "source": [
    "# criando dataframe\n",
    "# df_lept_2018 = pd.read_csv(\"Leptospirose_2018.csv\")\n",
    "df_raiva_2021 = pd.read_csv(\"Raiva_Humana_2021.csv\")"
   ]
  },
  {
   "cell_type": "code",
   "execution_count": 3,
   "metadata": {},
   "outputs": [],
   "source": [
    "def decodifica_estados(df):\n",
    "    \n",
    "    # dicionario com as siglas dos estados para decodificação\n",
    "    dicionario_estados = {12: 'AC', 27: 'AL', 16: 'AP', 13: 'AM', 29: 'BA', 23: 'CE', 53: 'DF', 32: 'ES', 52: 'GO', 21: 'MA', 51: 'MT', 50: 'MS', 31: 'MG', 15: 'PA', 25: 'PB', 41: 'PR', 26: 'PE', 22: 'PI', 24: 'RN', 43: 'RS', 33: 'RJ', 11: 'RO', 14: 'RR', 42: 'SC', 35: 'SP', 28: 'SE', 17: 'TO'}\n",
    "    # mudando os indices da series para as siglas dos estados\n",
    "    df.rename(index = dicionario_estados, inplace = True)\n",
    "\n",
    "    print(df)\n",
    "\n",
    "    return df"
   ]
  },
  {
   "cell_type": "code",
   "execution_count": null,
   "metadata": {},
   "outputs": [],
   "source": [
    "# 1. Quantos registros existem no arquivo de dados?"
   ]
  },
  {
   "cell_type": "code",
   "execution_count": null,
   "metadata": {},
   "outputs": [],
   "source": [
    "# 2. Quantos registros existem por município? a função deve retornar uma série do pandas (pd.Series)"
   ]
  },
  {
   "cell_type": "code",
   "execution_count": null,
   "metadata": {},
   "outputs": [],
   "source": [
    "# 3. Qual sexo possui mais registros? Retorne uma tupla com o sexo mais numeroso e um dicionário tendo como chaves 'M' e 'F' para os sexos con a contagem de registros em cada sexo."
   ]
  },
  {
   "cell_type": "code",
   "execution_count": null,
   "metadata": {},
   "outputs": [],
   "source": [
    "# 4. Qual a idade média (em anos) dos registros? retorne um float"
   ]
  },
  {
   "cell_type": "code",
   "execution_count": null,
   "metadata": {},
   "outputs": [],
   "source": [
    "# 5. a coluna SG_UF_NOT contém a sigla (string, por exemplo 33: 'RJ') da unidade federativa. Qual a unidade federativa com mais registros? Retorne o resultado como um dicionário tendo como chaves as siglas das unidades federativas e a quantidade de registros."
   ]
  },
  {
   "cell_type": "code",
   "execution_count": null,
   "metadata": {},
   "outputs": [],
   "source": [
    "# 6. Novamente usando a coluna SG_UF_NOT, qual a unidade federativa com mais registros de pessoas do sexo masculino? Retorne o resultado como um dicionário tendo como chaves as siglas das unidades federativas e a quantidade de registros."
   ]
  },
  {
   "cell_type": "code",
   "execution_count": 10,
   "metadata": {},
   "outputs": [
    {
     "data": {
      "text/plain": [
       "SG_UF_NOT\n",
       "11     1\n",
       "15     1\n",
       "16     1\n",
       "17     1\n",
       "21     3\n",
       "22     8\n",
       "24     5\n",
       "26     2\n",
       "29     1\n",
       "31    21\n",
       "33     6\n",
       "35    14\n",
       "41     3\n",
       "42     5\n",
       "43     3\n",
       "50     2\n",
       "51     7\n",
       "52     9\n",
       "53     1\n",
       "Name: ID_MUNICIP, dtype: int64"
      ]
     },
     "metadata": {},
     "output_type": "display_data"
    }
   ],
   "source": [
    "# 7. Descubra quantos municípios existem em cada unidade federativa (UF) (busque no google). determine, para a sua tabela de dados, que proporção dos munícípios de cada UF, tem pelo menos um registro. Retorne o resultado como um dicionário tendo como chaves as siglas das unidades federativas e a proporção de municípios com pelo menos um registro.\n",
    "df_contagem_estados = df_raiva_2021.groupby([\"SG_UF_NOT\"])[\"ID_MUNICIP\"].nunique()\n",
    "display(df_contagem_estados)"
   ]
  },
  {
   "cell_type": "code",
   "execution_count": null,
   "metadata": {},
   "outputs": [],
   "source": [
    "# 8. Usando o comando pd.to_datetime do Pandas, crie uma nova coluna chamada DT_NOTIFICACAO com o tipo datetime64[ns] a partir da coluna DT_NOTIFIC, e uma coluna DT_SINTOMAS também de tipo datetime64[ns]. A partir destas duas novas colunas calcule o número de dias de atraso entre os sintomas e a notificação e salve em uma coluna ATRASO_NOT."
   ]
  },
  {
   "cell_type": "code",
   "execution_count": null,
   "metadata": {},
   "outputs": [],
   "source": [
    "# 9. Calcule a média e desvio padrão do atraso de notificação por unidade federativa. Retorne o resultado como um dicionário tendo como chaves as siglas das unidades federativas e a média e desvio padrão do atraso de notificação."
   ]
  },
  {
   "cell_type": "code",
   "execution_count": 14,
   "metadata": {},
   "outputs": [
    {
     "data": {
      "text/plain": [
       "ID_MUNICIP\n",
       "110160     0.000000\n",
       "150140     0.000000\n",
       "160010     0.000000\n",
       "171620     0.000000\n",
       "210320     3.000000\n",
       "            ...    \n",
       "522140     3.000000\n",
       "522170    28.000000\n",
       "522190     1.000000\n",
       "522205     0.666667\n",
       "530010     1.000000\n",
       "Name: ATRASO_NOT, Length: 94, dtype: float64"
      ]
     },
     "execution_count": 14,
     "metadata": {},
     "output_type": "execute_result"
    },
    {
     "data": {
      "image/png": "[encoded data removed]",
      "text/plain": [
       "<Figure size 640x480 with 1 Axes>"
      ]
     },
     "metadata": {},
     "output_type": "display_data"
    }
   ],
   "source": [
    "# 10. Calcule a média do atraso de notificação por município. Plote o número de notificações contra o atraso médio em cada município como um scatter plot.\n",
    "  \n",
    "df = df_raiva_2021\n",
    "\n",
    "df[\"data_notificacao\"] = pd.to_datetime(df[\"DT_NOTIFIC\"])\n",
    "df[\"data_sintomas\"] = pd.to_datetime(df[\"DT_SIN_PRI\"])\n",
    "df[\"ATRASO_NOT\"] = (df[\"data_notificacao\"] - df[\"data_sintomas\"]) / np.timedelta64(1, \"D\")\n",
    "    \n",
    "# criando dataframe com municipios e a media para cada um\n",
    "df_atraso_municipio = pd.DataFrame(df.groupby([\"ID_MUNICIP\"])[\"ATRASO_NOT\"].mean())\n",
    "\n",
    "# adicionando coluna com o numero de notificacoes no dataframe\n",
    "df_atraso_municipio[\"n_notificacoes\"] = df.groupby([\"ID_MUNICIP\"])[\"ID_AGRAVO\"].count()\n",
    "\n",
    "# fazendo gráfico\n",
    "fig, plot_municipios = plt.subplots()\n",
    "\n",
    "# plotando valores\n",
    "plot_municipios.scatter(df_atraso_municipio[\"ATRASO_NOT\"], df_atraso_municipio[\"n_notificacoes\"] )\n",
    "    \n",
    "df_atraso_municipio[\"ATRASO_NOT\"]"
   ]
  }
 ],
 "metadata": {
  "kernelspec": {
   "display_name": "Python 3",
   "language": "python",
   "name": "python3"
  },
  "language_info": {
   "codemirror_mode": {
    "name": "ipython",
    "version": 3
   },
   "file_extension": ".py",
   "mimetype": "text/x-python",
   "name": "python",
   "nbconvert_exporter": "python",
   "pygments_lexer": "ipython3",
   "version": "3.11.1"
  },
  "orig_nbformat": 4,
  "vscode": {
   "interpreter": {
    "hash": "5238573367df39f7286bb46f9ff5f08f63a01a80960060ce41e3c79b190280fa"
   }
  }
 },
 "nbformat": 4,
 "nbformat_minor": 2
}
