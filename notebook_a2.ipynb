{
 "cells": [
  {
   "cell_type": "code",
   "execution_count": 1,
   "metadata": {},
   "outputs": [],
   "source": [
    "import pandas as pd\n",
    "import matplotlib as plt"
   ]
  },
  {
   "cell_type": "code",
   "execution_count": 2,
   "metadata": {},
   "outputs": [],
   "source": [
    "# criando dataframe\n",
    "# df_lept_2018 = pd.read_csv(\"Leptospirose_2018.csv\")\n",
    "df = pd.read_csv(\"Raiva_Humana_2021.csv\")"
   ]
  },
  {
   "cell_type": "code",
   "execution_count": 9,
   "metadata": {},
   "outputs": [],
   "source": [
    "def decodifica_estados(df):\n",
    "    \n",
    "    # dicionario com as siglas dos estados para decodificação\n",
    "    dicionario_estados = {12: 'AC', 27: 'AL', 16: 'AP', 13: 'AM', 29: 'BA', 23: 'CE', 53: 'DF', 32: 'ES', 52: 'GO', 21: 'MA', 51: 'MT', 50: 'MS', 31: 'MG', 15: 'PA', 25: 'PB', 41: 'PR', 26: 'PE', 22: 'PI', 24: 'RN', 43: 'RS', 33: 'RJ', 11: 'RO', 14: 'RR', 42: 'SC', 35: 'SP', 28: 'SE', 17: 'TO'}\n",
    "    # mudando os indices da series para as siglas dos estados\n",
    "    df.rename(index = dicionario_estados, inplace = True)\n",
    "\n",
    "    print(df)\n",
    "\n",
    "    return df"
   ]
  },
  {
   "attachments": {},
   "cell_type": "markdown",
   "metadata": {},
   "source": [
    "## 1. Quantos registros existem no arquivo de dados?"
   ]
  },
  {
   "cell_type": "code",
   "execution_count": 6,
   "metadata": {},
   "outputs": [
    {
     "name": "stdout",
     "output_type": "stream",
     "text": [
      "São 198 registros no arquivo de dados\n"
     ]
    }
   ],
   "source": [
    "# 1. Quantos registros existem no arquivo de dados?\n",
    "print(\"São\", len(df.index), \"registros no arquivo de dados\")"
   ]
  },
  {
   "attachments": {},
   "cell_type": "markdown",
   "metadata": {},
   "source": [
    "## 2. Quantos registros existem por município? a função deve retornar uma série do pandas (pd.Series)"
   ]
  },
  {
   "cell_type": "code",
   "execution_count": 17,
   "metadata": {},
   "outputs": [
    {
     "name": "stdout",
     "output_type": "stream",
     "text": [
      "<class 'pandas.core.frame.DataFrame'>\n",
      "ID_MUNICIP\n",
      "110160    1\n",
      "150140    1\n",
      "160010    6\n",
      "171620    1\n",
      "210320    1\n",
      "         ..\n",
      "522140    1\n",
      "522170    1\n",
      "522190    1\n",
      "522205    3\n",
      "530010    2\n",
      "Name: ID_AGRAVO, Length: 94, dtype: int64\n",
      "<class 'pandas.core.series.Series'>\n"
     ]
    }
   ],
   "source": [
    "# 2. Quantos registros existem por município? a função deve retornar uma série do pandas (pd.Series)\n",
    "df_resposta = df.groupby([\"ID_MUNICIP\"])[\"ID_AGRAVO\"].count()\n",
    "print(type(df))\n",
    "print(df_resposta)\n",
    "print(type(df_resposta))"
   ]
  },
  {
   "attachments": {},
   "cell_type": "markdown",
   "metadata": {},
   "source": [
    "## 3. Qual sexo possui mais registros? Retorne uma tupla com o sexo mais numeroso e um dicionário tendo como chaves 'M' e 'F' para os sexos con a contagem de registros em cada sexo."
   ]
  },
  {
   "cell_type": "code",
   "execution_count": 20,
   "metadata": {},
   "outputs": [
    {
     "name": "stdout",
     "output_type": "stream",
     "text": [
      "{'F': 94, 'M': 104}\n",
      "M\n"
     ]
    }
   ],
   "source": [
    "# 3. Qual sexo possui mais registros? Retorne uma tupla com o sexo mais numeroso e um dicionário tendo como chaves 'M' e 'F' para os sexos con a contagem de registros em cada sexo.\n",
    "# retorna uma series\n",
    "dicionario_sexo = dict(df.groupby([\"CS_SEXO\"])[\"ID_AGRAVO\"].count())\n",
    "print(dicionario_sexo)\n",
    "print(max(dicionario_sexo, key=dicionario_sexo.get))\n",
    "# retorna uma series\n",
    "dicionario_sexo = dict(df.groupby([\"CS_SEXO\"])[\"ID_AGRAVO\"].count())\n",
    "max(dicionario_sexo, key=dicionario_sexo.get)"
   ]
  },
  {
   "attachments": {},
   "cell_type": "markdown",
   "metadata": {},
   "source": [
    "## 4. Qual a idade média (em anos) dos registros? retorne um float"
   ]
  },
  {
   "cell_type": "code",
   "execution_count": 21,
   "metadata": {},
   "outputs": [
    {
     "name": "stdout",
     "output_type": "stream",
     "text": [
      "34.3598899958489\n"
     ]
    }
   ],
   "source": [
    "# 4. Qual a idade média (em anos) dos registros? retorne um float\n",
    "# pegando uma coluna como series e calculando a média dessa coluna\n",
    "print(df[\"idade_anos\"].mean())"
   ]
  },
  {
   "attachments": {},
   "cell_type": "markdown",
   "metadata": {},
   "source": [
    "## 5. a coluna SG_UF_NOT contém a sigla (string, por exemplo 33: 'RJ') da unidade federativa. Qual a unidade federativa com mais registros? Retorne o resultado como um dicionário tendo como chaves as siglas das unidades federativas e a quantidade de registros."
   ]
  },
  {
   "cell_type": "code",
   "execution_count": 29,
   "metadata": {},
   "outputs": [
    {
     "name": "stdout",
     "output_type": "stream",
     "text": [
      "{'Rondônia': 1, 'Pará': 1, 'Amapá': 6, 'Tocantins': 1, 'Maranhão': 16, 'Piauí': 13, 'Rio Grande do Norte': 8, 'Pernambuco': 3, 'Bahia': 1, 'Minas Gerais': 57, 'Rio de Janeiro': 6, 'São Paulo': 26, 'Paraná': 3, 'Santa Catarina': 5, 'Rio Grande do Sul': 3, 'Mato Grosso do Sul': 2, 'Mato Grosso': 26, 'Goiás': 18, 'Distrito Federal': 2}\n"
     ]
    }
   ],
   "source": [
    "# 5. a coluna SG_UF_NOT contém a sigla (string, por exemplo 33: 'RJ') da unidade federativa. Qual a unidade federativa com mais registros? Retorne o resultado como um dicionário tendo como chaves as siglas das unidades federativas e a quantidade de registros.\n",
    "# pegando decodificação\n",
    "# estados = pd.read_csv(\"codigos_estado.csv\")\n",
    "# # fazendo listas com os codigos\n",
    "# estado = estados[\"estado\"]\n",
    "# codigo = estados[\"codigo\"]\n",
    "# dicionario_estados = dict(zip(codigo, estado))\n",
    "dicionario_estados = {12: 'Acre', 27: 'Alagoas', 16: 'Amapá', 13: 'Amazonas', 29: 'Bahia', 23: 'Ceará', 53: 'Distrito Federal', 32: 'Espírito Santo', 52: 'Goiás', 21: 'Maranhão', 51: 'Mato Grosso', 50: 'Mato Grosso do Sul', 31: 'Minas Gerais', 15: 'Pará', 25: 'Paraíba', 41: 'Paraná', 26: 'Pernambuco', 22: 'Piauí', 24: 'Rio Grande do Norte', 43: 'Rio Grande do Sul', 33: 'Rio de Janeiro', 11: 'Rondônia', 14: 'Roraima', 42: 'Santa Catarina', 35: 'São Paulo', 28: 'Sergipe', 17: 'Tocantins'}\n",
    "series_estados = df.groupby([\"SG_UF_NOT\"])[\"ID_AGRAVO\"].count()\n",
    "series_estados.rename(index = dicionario_estados, inplace = True)\n",
    "dict(series_estados)\n",
    "print(dict(series_estados))"
   ]
  },
  {
   "attachments": {},
   "cell_type": "markdown",
   "metadata": {},
   "source": [
    "## 6. Novamente usando a coluna SG_UF_NOT, qual a unidade federativa com mais registros de pessoas do sexo masculino? Retorne o resultado como um dicionário tendo como chaves as siglas das unidades federativas e a quantidade de registros."
   ]
  },
  {
   "cell_type": "code",
   "execution_count": 35,
   "metadata": {},
   "outputs": [
    {
     "data": {
      "text/plain": [
       "1"
      ]
     },
     "execution_count": 35,
     "metadata": {},
     "output_type": "execute_result"
    }
   ],
   "source": [
    "# 6. Novamente usando a coluna SG_UF_NOT, qual a unidade federativa com mais registros de pessoas do sexo masculino? Retorne o resultado como um dicionário tendo como chaves as siglas das unidades federativas e a quantidade de registros.\n",
    "sexos_retirar = [\"F\", \"I\"]\n",
    "df = df[df.CS_SEXO.isin(sexos_retirar) == False]\n",
    "# df[\"CS_SEXO\"].nunique()\n"
   ]
  },
  {
   "attachments": {},
   "cell_type": "markdown",
   "metadata": {},
   "source": [
    "## 7. Descubra quantos municípios existem em cada unidade federativa (UF) (busque no google). determine, para a sua tabela de dados, que proporção dos munícípios de cada UF, tem pelo menos um registro. Retorne o resultado como um dicionário tendo como chaves as siglas das unidades federativas e a proporção de municípios com pelo menos um registro.\n"
   ]
  },
  {
   "cell_type": "code",
   "execution_count": 26,
   "metadata": {},
   "outputs": [
    {
     "name": "stdout",
     "output_type": "stream",
     "text": [
      "           ID_MUNICIP\n",
      "SG_UF_NOT            \n",
      "RO                  1\n",
      "PA                  1\n",
      "AP                  1\n",
      "TO                  1\n",
      "MA                  3\n",
      "PI                  8\n",
      "RN                  5\n",
      "PE                  2\n",
      "BA                  1\n",
      "MG                 21\n",
      "RJ                  6\n",
      "SP                 14\n",
      "PR                  3\n",
      "SC                  5\n",
      "RS                  3\n",
      "MS                  2\n",
      "MT                  7\n",
      "GO                  9\n",
      "DF                  1\n",
      "           ID_MUNICIP  n_municipios  proporcao_municipios\n",
      "SG_UF_NOT                                                \n",
      "RO                  1            52                   2.0\n",
      "PA                  1           144                   1.0\n",
      "AP                  1            16                   6.0\n",
      "TO                  1           139                   1.0\n",
      "MA                  3           217                   1.0\n",
      "PI                  8           224                   4.0\n",
      "RN                  5           167                   3.0\n",
      "PE                  2           184                   1.0\n",
      "BA                  1           417                   0.0\n",
      "MG                 21           853                   2.0\n",
      "RJ                  6            92                   7.0\n",
      "SP                 14           645                   2.0\n",
      "PR                  3           399                   1.0\n",
      "SC                  5           295                   2.0\n",
      "RS                  3           497                   1.0\n",
      "MS                  2            79                   3.0\n",
      "MT                  7           141                   5.0\n",
      "GO                  9           246                   4.0\n"
     ]
    }
   ],
   "source": [
    "# 7. Descubra quantos municípios existem em cada unidade federativa (UF) (busque no google). determine, para a sua tabela de dados, que proporção dos munícípios de cada UF, tem pelo menos um registro. Retorne o resultado como um dicionário tendo como chaves as siglas das unidades federativas e a proporção de municípios com pelo menos um registro.\n",
    "# # dataset com informações sobre os estado do Brasil\n",
    "# municipios_por_estado = pd.read_csv(\"municipios_por_estado.csv\")\n",
    "# # salvando estados\n",
    "# lista_estados = municipios_por_estado[\"estado\"]\n",
    "# # e a quantidade de municípios de cada um\n",
    "# lista_municipios = municipios_por_estado[\"n_municipios\"]\n",
    "# # fazendo dicionario\n",
    "dicionario_municipios_estados = {'MG': 853, 'SP': 645, 'RS': 497, 'BA': 417, 'PR': 399, 'SC': 295, 'GO': 246, 'PI': 224, 'PB': 223, 'MA': 217, 'PE': 184, 'CE': 184, 'RN': 167, 'PA': 144, 'MT': 141, 'TO': 139, 'AL': 102, 'RJ': 92, 'MS': 79, 'ES': 78, 'SE': 75, 'AM': 62, 'RO': 52, 'AC': 22, 'AP': 16, 'RR': 15}\n",
    "\n",
    "df_contagem_estados = pd.DataFrame(df.groupby([\"SG_UF_NOT\"])[\"ID_MUNICIP\"].nunique())\n",
    "\n",
    "df_contagem_estados = decodifica_estados(df_contagem_estados)\n",
    "\n",
    "# retirando distrito federal, pois não é um estado\n",
    "df_contagem_estados.drop(\"DF\", inplace = True)\n",
    "\n",
    "# compara o dataframe com o dicionário e adiciona os valores do dicionário em uma colun do dataframe fazendo a correpondência entre o index do dataframe e a chave do dicionário\n",
    "df_contagem_estados[\"n_municipios\"] = [dicionario_municipios_estados.get(index) for index in df_contagem_estados.index]\n",
    "\n",
    "df_contagem_estados[\"proporcao_municipios\"] = round((df_contagem_estados[\"ID_MUNICIP\"]/df_contagem_estados[\"n_municipios\"] * 100))\n",
    "\n",
    "print(df_contagem_estados)"
   ]
  },
  {
   "cell_type": "code",
   "execution_count": null,
   "metadata": {},
   "outputs": [],
   "source": [
    "# 8. Usando o comando pd.to_datetime do Pandas, crie uma nova coluna chamada DT_NOTIFICACAO com o tipo datetime64[ns] a partir da coluna DT_NOTIFIC, e uma coluna DT_SINTOMAS também de tipo datetime64[ns]. A partir destas duas novas colunas calcule o número de dias de atraso entre os sintomas e a notificação e salve em uma coluna ATRASO_NOT."
   ]
  },
  {
   "cell_type": "code",
   "execution_count": null,
   "metadata": {},
   "outputs": [],
   "source": [
    "# 9. Calcule a média e desvio padrão do atraso de notificação por unidade federativa. Retorne o resultado como um dicionário tendo como chaves as siglas das unidades federativas e a média e desvio padrão do atraso de notificação."
   ]
  },
  {
   "cell_type": "code",
   "execution_count": null,
   "metadata": {},
   "outputs": [],
   "source": [
    "# 10. Calcule a média do atraso de notificação por município. Plote o número de notificações contra o atraso médio em cada município como um scatter plot."
   ]
  },
  {
   "cell_type": "code",
   "execution_count": 6,
   "metadata": {},
   "outputs": [
    {
     "data": {
      "text/html": [
       "<div>\n",
       "<style scoped>\n",
       "    .dataframe tbody tr th:only-of-type {\n",
       "        vertical-align: middle;\n",
       "    }\n",
       "\n",
       "    .dataframe tbody tr th {\n",
       "        vertical-align: top;\n",
       "    }\n",
       "\n",
       "    .dataframe thead th {\n",
       "        text-align: right;\n",
       "    }\n",
       "</style>\n",
       "<table border=\"1\" class=\"dataframe\">\n",
       "  <thead>\n",
       "    <tr style=\"text-align: right;\">\n",
       "      <th></th>\n",
       "      <th>posicao</th>\n",
       "      <th>estado</th>\n",
       "      <th>regiao</th>\n",
       "      <th>n_municipios</th>\n",
       "      <th>n_habitantes_estado</th>\n",
       "      <th>media_habitantes_municipio</th>\n",
       "    </tr>\n",
       "  </thead>\n",
       "  <tbody>\n",
       "    <tr>\n",
       "      <th>0</th>\n",
       "      <td>1</td>\n",
       "      <td>Minas Gerais</td>\n",
       "      <td>Sudeste</td>\n",
       "      <td>853</td>\n",
       "      <td>20 989 259</td>\n",
       "      <td>24 606,40</td>\n",
       "    </tr>\n",
       "    <tr>\n",
       "      <th>1</th>\n",
       "      <td>2</td>\n",
       "      <td>São Paulo</td>\n",
       "      <td>Sudeste</td>\n",
       "      <td>645</td>\n",
       "      <td>44 744 199</td>\n",
       "      <td>69 370,85</td>\n",
       "    </tr>\n",
       "    <tr>\n",
       "      <th>2</th>\n",
       "      <td>3</td>\n",
       "      <td>Rio Grande do Sul</td>\n",
       "      <td>Sul</td>\n",
       "      <td>497</td>\n",
       "      <td>11 290 773</td>\n",
       "      <td>22 717,85</td>\n",
       "    </tr>\n",
       "    <tr>\n",
       "      <th>3</th>\n",
       "      <td>4</td>\n",
       "      <td>Bahia</td>\n",
       "      <td>Nordeste</td>\n",
       "      <td>417</td>\n",
       "      <td>15 271 073</td>\n",
       "      <td>36 621,28</td>\n",
       "    </tr>\n",
       "    <tr>\n",
       "      <th>4</th>\n",
       "      <td>5</td>\n",
       "      <td>Paraná</td>\n",
       "      <td>Sul</td>\n",
       "      <td>399</td>\n",
       "      <td>11 241 665</td>\n",
       "      <td>28 174,60</td>\n",
       "    </tr>\n",
       "    <tr>\n",
       "      <th>5</th>\n",
       "      <td>6</td>\n",
       "      <td>Santa Catarina</td>\n",
       "      <td>Sul</td>\n",
       "      <td>295</td>\n",
       "      <td>6 882 793</td>\n",
       "      <td>23 331,50</td>\n",
       "    </tr>\n",
       "    <tr>\n",
       "      <th>6</th>\n",
       "      <td>7</td>\n",
       "      <td>Goiás</td>\n",
       "      <td>Centro-Oeste</td>\n",
       "      <td>246</td>\n",
       "      <td>6 690 173</td>\n",
       "      <td>27 195,83</td>\n",
       "    </tr>\n",
       "    <tr>\n",
       "      <th>7</th>\n",
       "      <td>8</td>\n",
       "      <td>Piauí</td>\n",
       "      <td>Nordeste</td>\n",
       "      <td>224</td>\n",
       "      <td>3 212 374</td>\n",
       "      <td>14 340,96</td>\n",
       "    </tr>\n",
       "    <tr>\n",
       "      <th>8</th>\n",
       "      <td>9</td>\n",
       "      <td>Paraíba</td>\n",
       "      <td>Nordeste</td>\n",
       "      <td>223</td>\n",
       "      <td>3 995 541</td>\n",
       "      <td>17 917,22</td>\n",
       "    </tr>\n",
       "    <tr>\n",
       "      <th>9</th>\n",
       "      <td>10</td>\n",
       "      <td>Maranhão</td>\n",
       "      <td>Nordeste</td>\n",
       "      <td>217</td>\n",
       "      <td>6 945 547</td>\n",
       "      <td>32 007,13</td>\n",
       "    </tr>\n",
       "    <tr>\n",
       "      <th>10</th>\n",
       "      <td>11</td>\n",
       "      <td>Pernambuco</td>\n",
       "      <td>Nordeste</td>\n",
       "      <td>184</td>\n",
       "      <td>9 405 159</td>\n",
       "      <td>50 838,70</td>\n",
       "    </tr>\n",
       "    <tr>\n",
       "      <th>11</th>\n",
       "      <td>12</td>\n",
       "      <td>Ceará</td>\n",
       "      <td>Nordeste</td>\n",
       "      <td>184</td>\n",
       "      <td>8 964 526</td>\n",
       "      <td>48 720,25</td>\n",
       "    </tr>\n",
       "    <tr>\n",
       "      <th>12</th>\n",
       "      <td>13</td>\n",
       "      <td>Rio Grande do Norte</td>\n",
       "      <td>Nordeste</td>\n",
       "      <td>167</td>\n",
       "      <td>3 473 266</td>\n",
       "      <td>20 798,00</td>\n",
       "    </tr>\n",
       "    <tr>\n",
       "      <th>13</th>\n",
       "      <td>14</td>\n",
       "      <td>Pará</td>\n",
       "      <td>Norte</td>\n",
       "      <td>144</td>\n",
       "      <td>8 261 031</td>\n",
       "      <td>57 368,27</td>\n",
       "    </tr>\n",
       "    <tr>\n",
       "      <th>14</th>\n",
       "      <td>15</td>\n",
       "      <td>Mato Grosso</td>\n",
       "      <td>Centro-Oeste</td>\n",
       "      <td>141</td>\n",
       "      <td>3 302 041</td>\n",
       "      <td>23 418,73</td>\n",
       "    </tr>\n",
       "    <tr>\n",
       "      <th>15</th>\n",
       "      <td>16</td>\n",
       "      <td>Tocantins</td>\n",
       "      <td>Norte</td>\n",
       "      <td>139</td>\n",
       "      <td>1 531 744</td>\n",
       "      <td>11 019,74</td>\n",
       "    </tr>\n",
       "    <tr>\n",
       "      <th>16</th>\n",
       "      <td>17</td>\n",
       "      <td>Alagoas</td>\n",
       "      <td>Nordeste</td>\n",
       "      <td>102</td>\n",
       "      <td>3 357 494</td>\n",
       "      <td>32 916,61</td>\n",
       "    </tr>\n",
       "    <tr>\n",
       "      <th>17</th>\n",
       "      <td>18</td>\n",
       "      <td>Rio de Janeiro</td>\n",
       "      <td>Sudeste</td>\n",
       "      <td>92</td>\n",
       "      <td>16 636 666</td>\n",
       "      <td>180 833,33</td>\n",
       "    </tr>\n",
       "    <tr>\n",
       "      <th>18</th>\n",
       "      <td>19</td>\n",
       "      <td>Mato Grosso do Sul</td>\n",
       "      <td>Centro-Oeste</td>\n",
       "      <td>79</td>\n",
       "      <td>2 680 759</td>\n",
       "      <td>33 933,66</td>\n",
       "    </tr>\n",
       "    <tr>\n",
       "      <th>19</th>\n",
       "      <td>20</td>\n",
       "      <td>Espírito Santo</td>\n",
       "      <td>Sudeste</td>\n",
       "      <td>78</td>\n",
       "      <td>3 966 360</td>\n",
       "      <td>50 850,77</td>\n",
       "    </tr>\n",
       "    <tr>\n",
       "      <th>20</th>\n",
       "      <td>21</td>\n",
       "      <td>Sergipe</td>\n",
       "      <td>Nordeste</td>\n",
       "      <td>75</td>\n",
       "      <td>2 264 606</td>\n",
       "      <td>30 194,75</td>\n",
       "    </tr>\n",
       "    <tr>\n",
       "      <th>21</th>\n",
       "      <td>22</td>\n",
       "      <td>Amazonas</td>\n",
       "      <td>Norte</td>\n",
       "      <td>62</td>\n",
       "      <td>3 996 335</td>\n",
       "      <td>64 457,02</td>\n",
       "    </tr>\n",
       "    <tr>\n",
       "      <th>22</th>\n",
       "      <td>23</td>\n",
       "      <td>Rondônia</td>\n",
       "      <td>Norte</td>\n",
       "      <td>52</td>\n",
       "      <td>1 786 220</td>\n",
       "      <td>34 350,38</td>\n",
       "    </tr>\n",
       "    <tr>\n",
       "      <th>23</th>\n",
       "      <td>24</td>\n",
       "      <td>Acre</td>\n",
       "      <td>Norte</td>\n",
       "      <td>22</td>\n",
       "      <td>815 545</td>\n",
       "      <td>37 070,23</td>\n",
       "    </tr>\n",
       "    <tr>\n",
       "      <th>24</th>\n",
       "      <td>25</td>\n",
       "      <td>Amapá</td>\n",
       "      <td>Norte</td>\n",
       "      <td>16</td>\n",
       "      <td>781 713</td>\n",
       "      <td>48 857,06</td>\n",
       "    </tr>\n",
       "    <tr>\n",
       "      <th>25</th>\n",
       "      <td>26</td>\n",
       "      <td>Roraima</td>\n",
       "      <td>Norte</td>\n",
       "      <td>15</td>\n",
       "      <td>514 594</td>\n",
       "      <td>34 306,27</td>\n",
       "    </tr>\n",
       "  </tbody>\n",
       "</table>\n",
       "</div>"
      ],
      "text/plain": [
       "    posicao               estado        regiao  n_municipios  \\\n",
       "0         1         Minas Gerais       Sudeste           853   \n",
       "1         2            São Paulo       Sudeste           645   \n",
       "2         3    Rio Grande do Sul           Sul           497   \n",
       "3         4                Bahia      Nordeste           417   \n",
       "4         5               Paraná           Sul           399   \n",
       "5         6       Santa Catarina           Sul           295   \n",
       "6         7                Goiás  Centro-Oeste           246   \n",
       "7         8                Piauí      Nordeste           224   \n",
       "8         9              Paraíba      Nordeste           223   \n",
       "9        10             Maranhão      Nordeste           217   \n",
       "10       11           Pernambuco      Nordeste           184   \n",
       "11       12                Ceará      Nordeste           184   \n",
       "12       13  Rio Grande do Norte      Nordeste           167   \n",
       "13       14                 Pará         Norte           144   \n",
       "14       15          Mato Grosso  Centro-Oeste           141   \n",
       "15       16            Tocantins         Norte           139   \n",
       "16       17              Alagoas      Nordeste           102   \n",
       "17       18       Rio de Janeiro       Sudeste            92   \n",
       "18       19   Mato Grosso do Sul  Centro-Oeste            79   \n",
       "19       20       Espírito Santo       Sudeste            78   \n",
       "20       21              Sergipe      Nordeste            75   \n",
       "21       22             Amazonas         Norte            62   \n",
       "22       23             Rondônia         Norte            52   \n",
       "23       24                 Acre         Norte            22   \n",
       "24       25                Amapá         Norte            16   \n",
       "25       26              Roraima         Norte            15   \n",
       "\n",
       "   n_habitantes_estado media_habitantes_municipio  \n",
       "0           20 989 259                  24 606,40  \n",
       "1           44 744 199                  69 370,85  \n",
       "2           11 290 773                  22 717,85  \n",
       "3           15 271 073                  36 621,28  \n",
       "4           11 241 665                  28 174,60  \n",
       "5            6 882 793                  23 331,50  \n",
       "6            6 690 173                  27 195,83  \n",
       "7            3 212 374                  14 340,96  \n",
       "8            3 995 541                  17 917,22  \n",
       "9            6 945 547                  32 007,13  \n",
       "10           9 405 159                  50 838,70  \n",
       "11           8 964 526                  48 720,25  \n",
       "12           3 473 266                  20 798,00  \n",
       "13           8 261 031                  57 368,27  \n",
       "14           3 302 041                  23 418,73  \n",
       "15           1 531 744                  11 019,74  \n",
       "16           3 357 494                  32 916,61  \n",
       "17          16 636 666                 180 833,33  \n",
       "18           2 680 759                  33 933,66  \n",
       "19           3 966 360                  50 850,77  \n",
       "20           2 264 606                  30 194,75  \n",
       "21           3 996 335                  64 457,02  \n",
       "22           1 786 220                  34 350,38  \n",
       "23             815 545                  37 070,23  \n",
       "24             781 713                  48 857,06  \n",
       "25             514 594                  34 306,27  "
      ]
     },
     "metadata": {},
     "output_type": "display_data"
    },
    {
     "name": "stdout",
     "output_type": "stream",
     "text": [
      "{'Minas Gerais': 853, 'São Paulo': 645, 'Rio Grande do Sul': 497, 'Bahia': 417, 'Paraná': 399, 'Santa Catarina': 295, 'Goiás': 246, 'Piauí': 224, 'Paraíba': 223, 'Maranhão': 217, 'Pernambuco': 184, 'Ceará': 184, 'Rio Grande do Norte': 167, 'Pará': 144, 'Mato Grosso': 141, 'Tocantins': 139, 'Alagoas': 102, 'Rio de Janeiro': 92, 'Mato Grosso do Sul': 79, 'Espírito Santo': 78, 'Sergipe': 75, 'Amazonas': 62, 'Rondônia': 52, 'Acre': 22, 'Amapá': 16, 'Roraima': 15}\n"
     ]
    }
   ],
   "source": [
    "# dataset com informações sobre os estado do Brasil\n",
    "municipios_por_estado = pd.read_csv(\"municipios_por_estado.csv\")\n",
    "# salvando estados\n",
    "lista_estados = municipios_por_estado[\"estado\"]\n",
    "# e a quantidade de municípios de cada um\n",
    "lista_municipios = municipios_por_estado[\"n_municipios\"]\n",
    "# fazendo dicionario\n",
    "dicionario_habitantes_municipios = dict(zip(lista_estados, lista_municipios))"
   ]
  }
 ],
 "metadata": {
  "kernelspec": {
   "display_name": "Python 3",
   "language": "python",
   "name": "python3"
  },
  "language_info": {
   "codemirror_mode": {
    "name": "ipython",
    "version": 3
   },
   "file_extension": ".py",
   "mimetype": "text/x-python",
   "name": "python",
   "nbconvert_exporter": "python",
   "pygments_lexer": "ipython3",
   "version": "3.11.3"
  },
  "orig_nbformat": 4,
  "vscode": {
   "interpreter": {
    "hash": "5238573367df39f7286bb46f9ff5f08f63a01a80960060ce41e3c79b190280fa"
   }
  }
 },
 "nbformat": 4,
 "nbformat_minor": 2
}
